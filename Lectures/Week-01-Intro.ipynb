{
 "cells": [
  {
   "cell_type": "markdown",
   "metadata": {},
   "source": [
    "# Spring 2018 Status: UNREVIEWED\n",
    "\n",
    "# What is this class?\n",
    "\n",
    "This is an intro to programming class.  Like intro intro.  Know how to code already? Go take data cleaning. That's an awesome class as a second step.  I can't stop you from staying for the easy A, but don't complain that the content was too basic.\n",
    "\n",
    "I have a focus on teaching programming through the history and community of practice, leading you toward data processing, rather than web development or application development.\n",
    "\n",
    "I presume you know nothing.  Like zzzzeeeeero.  We'll go from there and end with data processing over XML files. Mmmm metadata.\n",
    "\n",
    "Class will be a mix of review and preview of material.  I expect you to have reviewed the chapter beforehand and will come to class with questions."
   ]
  },
  {
   "cell_type": "markdown",
   "metadata": {},
   "source": [
    "# Don't freak out on me\n",
    "\n",
    "This is a fast paced class. This means that you'll be doing a lot of self study.  I'm here to advise and direct, but I can't instruct you on everything you need to know.  2 hours isn't enough.\n",
    "\n",
    "But don't bail on me, though.\n",
    "\n",
    "There are large portions of your grade that don't require coding.  Maths is not required.  You'll do some arithmetic and you'll need to think through algorithms, but otherwise you'll be fine."
   ]
  },
  {
   "cell_type": "markdown",
   "metadata": {},
   "source": [
    "# Suggestions\n",
    "\n",
    "* You'll learn more from several short study sessions rather than an entire day of hacking.  Start early.\n",
    "* You will not do well if you wait until Thursday morning to open the book.\n",
    "* Read the homework problems first so you know what to focus your reading on.\n",
    "* I aim to make you capable. I can't make you a junior dev.\n",
    "* You won't hurt my feelings if you end up hating Python."
   ]
  },
  {
   "cell_type": "markdown",
   "metadata": {},
   "source": [
    "Some of you will feel like this: ![title](../img/highfive.gif)\n",
    "\n",
    "\n",
    "\n",
    "Some this: ![title](../img/nostrongfeelings.jpg)\n",
    "\n",
    "\n",
    "\n",
    "And others this: ![title](../img/octopusnope.gif)\n",
    "\n",
    "These are all okay.\n"
   ]
  },
  {
   "cell_type": "markdown",
   "metadata": {},
   "source": [
    "# A tour of PyCharm\n",
    "\n",
    "Installation instructions are here:  [link](../installation_directions.md)\n",
    "\n",
    "* How to run a script\n",
    "* How to use the interpreter\n",
    "* The differences between the two\n",
    "* What is a kernel session?\n",
    "* .py versus IDLE"
   ]
  },
  {
   "cell_type": "markdown",
   "metadata": {},
   "source": [
    "## The book versus pycharm\n",
    "\n",
    "The book wasn't written for pycharm, so things aren't going to stack up perfectly.  It'll be okay, so long as you remain aware of this.\n",
    "\n",
    "* my rant about main()\n",
    "* black boxes and trust hats"
   ]
  },
  {
   "cell_type": "markdown",
   "metadata": {},
   "source": [
    "# Data types and expressions"
   ]
  },
  {
   "cell_type": "code",
   "execution_count": 1,
   "metadata": {},
   "outputs": [
    {
     "name": "stdout",
     "output_type": "stream",
     "text": [
      "1\n",
      "1.5\n",
      "<class 'int'>\n",
      "<class 'float'>\n"
     ]
    }
   ],
   "source": [
    "# numbers\n",
    "\n",
    "print(1) # integers\n",
    "print(1.5) # floats\n",
    "print( type(1) )\n",
    "print( type(1.5) )"
   ]
  },
  {
   "cell_type": "code",
   "execution_count": 2,
   "metadata": {},
   "outputs": [
    {
     "name": "stdout",
     "output_type": "stream",
     "text": [
      "text\n",
      "text\n",
      "\n",
      "\n",
      "text\n",
      "\n",
      "\n",
      "\n"
     ]
    }
   ],
   "source": [
    "# strings\n",
    "\n",
    "print('text')\n",
    "print(\"text\")\n",
    "print(\"\"\"\n",
    "\n",
    "text\n",
    "\n",
    "\n",
    "\"\"\")"
   ]
  },
  {
   "cell_type": "code",
   "execution_count": 3,
   "metadata": {},
   "outputs": [
    {
     "name": "stdout",
     "output_type": "stream",
     "text": [
      "2.5\n",
      "0\n"
     ]
    }
   ],
   "source": [
    "# operators\n",
    "\n",
    "# print( 1 + 1 )\n",
    "# print( 1 * 1 )\n",
    "# print( 1 / 1 )\n",
    "# print( 1 // 1 )\n",
    "print( 5 / 2 )\n",
    "print( 6 % 2 )"
   ]
  },
  {
   "cell_type": "markdown",
   "metadata": {},
   "source": [
    "# Variables and assignments\n",
    "\n",
    "The great world of buckets.  The book covers this as well, and we'll review next week."
   ]
  },
  {
   "cell_type": "code",
   "execution_count": 4,
   "metadata": {},
   "outputs": [
    {
     "name": "stdout",
     "output_type": "stream",
     "text": [
      "1\n",
      "1\n",
      "<class 'int'>\n",
      "<class 'int'>\n"
     ]
    }
   ],
   "source": [
    "# single assignment\n",
    "\n",
    "thing = 1\n",
    "\n",
    "# so thing is my variable name, and 1 is the value.  \n",
    "# thing is now associated with the value of 1\n",
    "# when I print out 1 and thing, they would appear the same\n",
    "# the object type is also going to be the same, \n",
    "# because the variable inherets what the contents are\n",
    "\n",
    "print(1)\n",
    "print(thing)\n",
    "\n",
    "print( type(1) )\n",
    "print( type(thing) )"
   ]
  },
  {
   "cell_type": "code",
   "execution_count": 5,
   "metadata": {},
   "outputs": [
    {
     "name": "stdout",
     "output_type": "stream",
     "text": [
      "fizzy pop\n",
      "fizzy pop\n"
     ]
    }
   ],
   "source": [
    "# multiple assignment\n",
    "\n",
    "# You won't use this too often, but you'll see it when we start\n",
    "# working with more complex data structures\n",
    "# copy this code into PyCharm and play around with it a bit to explore\n",
    "\n",
    "x = 'fizzy'\n",
    "y = 'pop'\n",
    "\n",
    "a, b = x, y\n",
    "\n",
    "print(x, y)\n",
    "print(a, b)"
   ]
  },
  {
   "cell_type": "markdown",
   "metadata": {},
   "source": [
    "# Loops\n",
    "\n",
    "## The for loop\n",
    "\n",
    "For a known number of things. E.g. \"break all the eggs in that basket\"\n",
    "\n",
    "We'll talk more about this next week, these kind of work magically, which is something I suggest you just roll with for the first few weeks."
   ]
  },
  {
   "cell_type": "code",
   "execution_count": 6,
   "metadata": {},
   "outputs": [
    {
     "name": "stdout",
     "output_type": "stream",
     "text": [
      "[0, 1, 2, 3, 4, 5, 6, 7, 8, 9]\n",
      "I'm going to do this 10 times\n",
      "I'm going to do this 10 times\n",
      "I'm going to do this 10 times\n",
      "I'm going to do this 10 times\n",
      "I'm going to do this 10 times\n",
      "I'm going to do this 10 times\n",
      "I'm going to do this 10 times\n",
      "I'm going to do this 10 times\n",
      "I'm going to do this 10 times\n",
      "I'm going to do this 10 times\n"
     ]
    }
   ],
   "source": [
    "# for and range\n",
    "\n",
    "print( list( range(10) ) )\n",
    "# prints 0-9, so 10 items\n",
    "\n",
    "# this is just a python pattern to make it do stuff\n",
    "# a particular number of times\n",
    "\n",
    "for item in range(10):\n",
    "    print(\"I'm going to do this 10 times\")"
   ]
  },
  {
   "cell_type": "code",
   "execution_count": 7,
   "metadata": {},
   "outputs": [
    {
     "name": "stdout",
     "output_type": "stream",
     "text": [
      "I used fizzy for this one\n",
      "I used fizzy for this one\n",
      "I used fizzy for this one\n",
      "I used pop for this one\n",
      "I used pop for this one\n",
      "I used pop for this one\n",
      "2\n",
      "2\n"
     ]
    }
   ],
   "source": [
    "# iterable variables\n",
    "# again, something to dwell on in clasee\n",
    "# you can name your iterble variable anything\n",
    "# you still have to type it, but it can be anything\n",
    "\n",
    "for fizzy in range(3):\n",
    "    print(\"I used fizzy for this one\")\n",
    "\n",
    "for pop in range(3):\n",
    "    print(\"I used pop for this one\")\n",
    "\n",
    "# that variable comes to exist at the moment of first execution\n",
    "# within the loop, but it will continue to persist after\n",
    "# Thus...\n",
    "\n",
    "print(fizzy) # will print 2\n",
    "print(pop) # will print 2\n"
   ]
  },
  {
   "cell_type": "markdown",
   "metadata": {},
   "source": [
    "# Some pycharm suggestions\n",
    "\n",
    "In PyCharm you've already made a 'project' (per the installation instructions).  That project can have folders and files.  My suggestion is to make one folder for each assignment (thus, each week of class) where you write your code, and make one .py file for each problem (when appropriate).\n",
    "\n",
    "You'll be making .py files, which contain your python code.  You'll see these files appear when you navigate to the folder you are working in.  First, find the path where your project is stored, then go into the folder you've been working in.\n",
    "\n",
    "For file naming, just be sure to include the name of the problem. E.g. wickes-pe5.py would be my submission for programming exercise 5.  When we download your assignment it'll just be a folder of what you've uploaded.  Making it easy for us to tell which file goes for which problem will make grading faster for everyone.\n",
    "\n",
    "Remember, some questions will be discussion that you should write in your narrative and some coding problems are strung together so that it makes more sense to include them both in one .py file.  At time of submission (you'll see where to submit when you open the assignment link), you can upload your narrative file, the .py files, and any data files, screenshots, etc. that you'd like to include."
   ]
  },
  {
   "cell_type": "code",
   "execution_count": null,
   "metadata": {
    "collapsed": true
   },
   "outputs": [],
   "source": []
  }
 ],
 "metadata": {
  "kernelspec": {
   "display_name": "Python 3",
   "language": "python",
   "name": "python3"
  },
  "language_info": {
   "codemirror_mode": {
    "name": "ipython",
    "version": 3
   },
   "file_extension": ".py",
   "mimetype": "text/x-python",
   "name": "python",
   "nbconvert_exporter": "python",
   "pygments_lexer": "ipython3",
   "version": "3.6.1"
  }
 },
 "nbformat": 4,
 "nbformat_minor": 2
}
